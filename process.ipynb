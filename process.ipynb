{
 "cells": [
  {
   "cell_type": "code",
   "execution_count": null,
   "id": "984d1053-68c6-4be1-b640-49a9833a466d",
   "metadata": {
    "tags": [
     "parameters"
    ]
   },
   "outputs": [],
   "source": [
    "in_tile_fn = 'abcd' # type: stage-in\n",
    "in_tile_num = 5 # type: int\n",
    "tile_buffer_m = '' # type: string\n",
    "in_tile_layer = '' # type: string",
    "topo_tile_fn = '' # type: stage-in",
   ]
  },
  {
   "cell_type": "code",
   "execution_count": null,
   "id": "42ce04c7-7913-45cb-92f4-b74072082180",
   "metadata": {
    "collapsed": true,
    "jupyter": {
     "outputs_hidden": true
    },
    "tags": []
   },
   "outputs": [
    {
     "name": "stdout",
     "output_type": "stream",
     "text": [
      "Couldn't find program: 'bash'\n"
     ]
    }
   ],
   "source": [
    "%%bash\n",
    "# write a bash script here\n",
    "/bin/bash icesat2_boreal/dps/alg_3-1-5/run.sh {in_tile_fn} {in_tile_num} {tile_buffer_m} {in_tile_layer} {topo_tile_fn}"
   ]
  }
 ],
 "metadata": {
  "kernelspec": {
   "display_name": "Python 3 (ipykernel)",
   "language": "python",
   "name": "python3"
  },
  "language_info": {
   "codemirror_mode": {
    "name": "ipython",
    "version": 3
   },
   "file_extension": ".py",
   "mimetype": "text/x-python",
   "name": "python",
   "nbconvert_exporter": "python",
   "pygments_lexer": "ipython3",
   "version": "3.9.7"
  }
 },
 "nbformat": 4,
 "nbformat_minor": 5
}
